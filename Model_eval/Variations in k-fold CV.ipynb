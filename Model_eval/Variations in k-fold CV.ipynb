{
 "cells": [
  {
   "cell_type": "markdown",
   "metadata": {},
   "source": [
    "### Variations of k-fold cross validation"
   ]
  },
  {
   "cell_type": "code",
   "execution_count": 1,
   "metadata": {},
   "outputs": [],
   "source": [
    "import pandas as pd\n",
    "import matplotlib.pyplot as plt\n",
    "import numpy as np"
   ]
  },
  {
   "cell_type": "code",
   "execution_count": 2,
   "metadata": {},
   "outputs": [
    {
     "data": {
      "text/html": [
       "<div>\n",
       "<style scoped>\n",
       "    .dataframe tbody tr th:only-of-type {\n",
       "        vertical-align: middle;\n",
       "    }\n",
       "\n",
       "    .dataframe tbody tr th {\n",
       "        vertical-align: top;\n",
       "    }\n",
       "\n",
       "    .dataframe thead th {\n",
       "        text-align: right;\n",
       "    }\n",
       "</style>\n",
       "<table border=\"1\" class=\"dataframe\">\n",
       "  <thead>\n",
       "    <tr style=\"text-align: right;\">\n",
       "      <th></th>\n",
       "      <th>User ID</th>\n",
       "      <th>Gender</th>\n",
       "      <th>Age</th>\n",
       "      <th>EstimatedSalary</th>\n",
       "      <th>Purchased</th>\n",
       "    </tr>\n",
       "  </thead>\n",
       "  <tbody>\n",
       "    <tr>\n",
       "      <th>0</th>\n",
       "      <td>15624510</td>\n",
       "      <td>Male</td>\n",
       "      <td>19</td>\n",
       "      <td>19000</td>\n",
       "      <td>0</td>\n",
       "    </tr>\n",
       "    <tr>\n",
       "      <th>1</th>\n",
       "      <td>15810944</td>\n",
       "      <td>Male</td>\n",
       "      <td>35</td>\n",
       "      <td>20000</td>\n",
       "      <td>0</td>\n",
       "    </tr>\n",
       "    <tr>\n",
       "      <th>2</th>\n",
       "      <td>15668575</td>\n",
       "      <td>Female</td>\n",
       "      <td>26</td>\n",
       "      <td>43000</td>\n",
       "      <td>0</td>\n",
       "    </tr>\n",
       "    <tr>\n",
       "      <th>3</th>\n",
       "      <td>15603246</td>\n",
       "      <td>Female</td>\n",
       "      <td>27</td>\n",
       "      <td>57000</td>\n",
       "      <td>0</td>\n",
       "    </tr>\n",
       "    <tr>\n",
       "      <th>4</th>\n",
       "      <td>15804002</td>\n",
       "      <td>Male</td>\n",
       "      <td>19</td>\n",
       "      <td>76000</td>\n",
       "      <td>0</td>\n",
       "    </tr>\n",
       "  </tbody>\n",
       "</table>\n",
       "</div>"
      ],
      "text/plain": [
       "    User ID  Gender  Age  EstimatedSalary  Purchased\n",
       "0  15624510    Male   19            19000          0\n",
       "1  15810944    Male   35            20000          0\n",
       "2  15668575  Female   26            43000          0\n",
       "3  15603246  Female   27            57000          0\n",
       "4  15804002    Male   19            76000          0"
      ]
     },
     "execution_count": 2,
     "metadata": {},
     "output_type": "execute_result"
    }
   ],
   "source": [
    "df = pd.read_csv('Social_Network_Ads.csv')\n",
    "X = df.iloc[:, 2:4]   # Using 1:2 as indices will give us np array of dim (10, 1)\n",
    "y = df.iloc[:, 4]\n",
    "\n",
    "df.head()"
   ]
  },
  {
   "cell_type": "code",
   "execution_count": 3,
   "metadata": {},
   "outputs": [],
   "source": [
    "# Scale\n",
    "from sklearn.preprocessing import StandardScaler\n",
    "X_sca = StandardScaler()\n",
    "X = X_sca.fit_transform(X)"
   ]
  },
  {
   "cell_type": "code",
   "execution_count": 4,
   "metadata": {},
   "outputs": [],
   "source": [
    "from __future__ import division\n",
    "from sklearn.model_selection import KFold\n",
    "from sklearn.metrics import accuracy_score\n",
    "from sklearn.svm import SVC"
   ]
  },
  {
   "cell_type": "code",
   "execution_count": 5,
   "metadata": {},
   "outputs": [
    {
     "name": "stdout",
     "output_type": "stream",
     "text": [
      "Accuracy: 0.82\n"
     ]
    }
   ],
   "source": [
    "kfold_cv = KFold(n_splits=10)\n",
    "correct = 0\n",
    "total = 0\n",
    "for train_indices, test_indices in kfold_cv.split(X):\n",
    "    X_train, X_test, y_train, y_test = X[train_indices], X[test_indices], \\\n",
    "                                        y[train_indices], y[test_indices]\n",
    "    clf = SVC(kernel='linear', random_state=0).fit(X_train, y_train)\n",
    "    correct += accuracy_score(y_test, clf.predict(X_test))\n",
    "    total += 1\n",
    "print(\"Accuracy: {0:.2f}\".format(correct/total))"
   ]
  },
  {
   "cell_type": "code",
   "execution_count": 6,
   "metadata": {},
   "outputs": [],
   "source": [
    "from sklearn.svm import SVC #support vector classifier\n",
    "clf = SVC(kernel='linear', random_state=0).fit(X_train, y_train)"
   ]
  },
  {
   "cell_type": "code",
   "execution_count": 7,
   "metadata": {},
   "outputs": [
    {
     "name": "stdout",
     "output_type": "stream",
     "text": [
      "\n",
      " [0.7027027  0.7027027  0.94594595 0.97222222 0.97222222 0.88888889\n",
      " 0.86111111 0.74285714 0.82857143 0.91428571]\n",
      "\n",
      " 0.8531510081510081\n",
      "\n",
      " 0.10004154029821953\n"
     ]
    }
   ],
   "source": [
    "# applying k-fold cross validation\n",
    "from sklearn.model_selection import cross_val_score\n",
    "accuracies = cross_val_score(clf, X_train, y_train, cv=10)\n",
    "print ('\\n', accuracies)\n",
    "print ('\\n',accuracies.mean())\n",
    "print ('\\n',accuracies.std())"
   ]
  },
  {
   "cell_type": "markdown",
   "metadata": {},
   "source": [
    "#### Leave-one-out CV"
   ]
  },
  {
   "cell_type": "markdown",
   "metadata": {},
   "source": [
    "Another type of cross validation is leave one out cross validation. Out of the <b>_*n*_</b> samples, one of them is left out and the model is trained on other samples. When <b>_*k*_</b> in k-Fold validation is equal to the number of samples then K-Fold validation is same as leave one out cross validation"
   ]
  },
  {
   "cell_type": "code",
   "execution_count": 8,
   "metadata": {},
   "outputs": [
    {
     "data": {
      "text/html": [
       "<div>\n",
       "<style scoped>\n",
       "    .dataframe tbody tr th:only-of-type {\n",
       "        vertical-align: middle;\n",
       "    }\n",
       "\n",
       "    .dataframe tbody tr th {\n",
       "        vertical-align: top;\n",
       "    }\n",
       "\n",
       "    .dataframe thead th {\n",
       "        text-align: right;\n",
       "    }\n",
       "</style>\n",
       "<table border=\"1\" class=\"dataframe\">\n",
       "  <thead>\n",
       "    <tr style=\"text-align: right;\">\n",
       "      <th></th>\n",
       "      <th>User ID</th>\n",
       "      <th>Gender</th>\n",
       "      <th>Age</th>\n",
       "      <th>EstimatedSalary</th>\n",
       "      <th>Purchased</th>\n",
       "    </tr>\n",
       "  </thead>\n",
       "  <tbody>\n",
       "    <tr>\n",
       "      <th>0</th>\n",
       "      <td>15624510</td>\n",
       "      <td>Male</td>\n",
       "      <td>19</td>\n",
       "      <td>19000</td>\n",
       "      <td>0</td>\n",
       "    </tr>\n",
       "    <tr>\n",
       "      <th>1</th>\n",
       "      <td>15810944</td>\n",
       "      <td>Male</td>\n",
       "      <td>35</td>\n",
       "      <td>20000</td>\n",
       "      <td>0</td>\n",
       "    </tr>\n",
       "    <tr>\n",
       "      <th>2</th>\n",
       "      <td>15668575</td>\n",
       "      <td>Female</td>\n",
       "      <td>26</td>\n",
       "      <td>43000</td>\n",
       "      <td>0</td>\n",
       "    </tr>\n",
       "    <tr>\n",
       "      <th>3</th>\n",
       "      <td>15603246</td>\n",
       "      <td>Female</td>\n",
       "      <td>27</td>\n",
       "      <td>57000</td>\n",
       "      <td>0</td>\n",
       "    </tr>\n",
       "    <tr>\n",
       "      <th>4</th>\n",
       "      <td>15804002</td>\n",
       "      <td>Male</td>\n",
       "      <td>19</td>\n",
       "      <td>76000</td>\n",
       "      <td>0</td>\n",
       "    </tr>\n",
       "  </tbody>\n",
       "</table>\n",
       "</div>"
      ],
      "text/plain": [
       "    User ID  Gender  Age  EstimatedSalary  Purchased\n",
       "0  15624510    Male   19            19000          0\n",
       "1  15810944    Male   35            20000          0\n",
       "2  15668575  Female   26            43000          0\n",
       "3  15603246  Female   27            57000          0\n",
       "4  15804002    Male   19            76000          0"
      ]
     },
     "execution_count": 8,
     "metadata": {},
     "output_type": "execute_result"
    }
   ],
   "source": [
    "df1 = pd.read_csv('Social_Network_Ads.csv')\n",
    "X1 = df1.iloc[:, 2:4]\n",
    "y1 = df1.iloc[:, 4]\n",
    "\n",
    "df1.head()"
   ]
  },
  {
   "cell_type": "code",
   "execution_count": 9,
   "metadata": {},
   "outputs": [],
   "source": [
    "#scale\n",
    "from sklearn.preprocessing import StandardScaler\n",
    "X_sca = StandardScaler()\n",
    "X1 = X_sca.fit_transform(X1)"
   ]
  },
  {
   "cell_type": "code",
   "execution_count": 10,
   "metadata": {},
   "outputs": [
    {
     "name": "stdout",
     "output_type": "stream",
     "text": [
      "Accuracy: 0.84\n"
     ]
    }
   ],
   "source": [
    "from __future__ import division\n",
    "from sklearn.model_selection import LeaveOneOut\n",
    "from sklearn.metrics import accuracy_score\n",
    "from sklearn.svm import SVC\n",
    "\n",
    "loo_cv = LeaveOneOut()\n",
    "correct = 0\n",
    "total = 0\n",
    "for train_indices, test_indices in loo_cv.split(X1):\n",
    "#     uncomment these lines to print splits\n",
    "#     print(\"Train Indices: {}...\".format(train_indices[:4]))\n",
    "#     print(\"Test Indices: {}...\".format(test_indices[:4]))\n",
    "#     print(\"Training SVC model using this configuration\")\n",
    "    X1_train, X1_test, y1_train, y1_test = X1[train_indices], X1[test_indices], \\\n",
    "                                        y1[train_indices], y1[test_indices]\n",
    "    clf = SVC(kernel='linear', random_state=42).fit(X1_train, y1_train)\n",
    "    correct += accuracy_score(y1_test, clf.predict(X1_test))\n",
    "    total += 1\n",
    "print(\"Accuracy: {0:.2f}\".format(correct/total))"
   ]
  },
  {
   "cell_type": "markdown",
   "metadata": {},
   "source": [
    "### Implementing Stratified k-fold"
   ]
  },
  {
   "cell_type": "markdown",
   "metadata": {},
   "source": [
    "K-fold validation does not preserve the split of the output variable while splitting the data in k-folds. Imagine training a NBayes classifier using k-fold validation using 10 samples where 5 are positive and 5 are negative. Since k-Fold randomly selects the split imagine splitting it in an unfortunate way -- 1 split contains all positive samples and 1 contains all negative. NBayes classifier will calculate the prior probabilities and find it to be 100% i.e. the model will \"think\" the output is always positive (which is obviously wrong!). To tackle this scenario we use Stratified split, what it would essentially do is preserve the split in the original dataset in training set, that is, if the original dataset has 50% positive and 50% negative outputs then the training set will also have 50% positive and 50% negative outputs."
   ]
  },
  {
   "cell_type": "code",
   "execution_count": 11,
   "metadata": {},
   "outputs": [
    {
     "data": {
      "text/html": [
       "<div>\n",
       "<style scoped>\n",
       "    .dataframe tbody tr th:only-of-type {\n",
       "        vertical-align: middle;\n",
       "    }\n",
       "\n",
       "    .dataframe tbody tr th {\n",
       "        vertical-align: top;\n",
       "    }\n",
       "\n",
       "    .dataframe thead th {\n",
       "        text-align: right;\n",
       "    }\n",
       "</style>\n",
       "<table border=\"1\" class=\"dataframe\">\n",
       "  <thead>\n",
       "    <tr style=\"text-align: right;\">\n",
       "      <th></th>\n",
       "      <th>User ID</th>\n",
       "      <th>Gender</th>\n",
       "      <th>Age</th>\n",
       "      <th>EstimatedSalary</th>\n",
       "      <th>Purchased</th>\n",
       "    </tr>\n",
       "  </thead>\n",
       "  <tbody>\n",
       "    <tr>\n",
       "      <th>0</th>\n",
       "      <td>15624510</td>\n",
       "      <td>Male</td>\n",
       "      <td>19</td>\n",
       "      <td>19000</td>\n",
       "      <td>0</td>\n",
       "    </tr>\n",
       "    <tr>\n",
       "      <th>1</th>\n",
       "      <td>15810944</td>\n",
       "      <td>Male</td>\n",
       "      <td>35</td>\n",
       "      <td>20000</td>\n",
       "      <td>0</td>\n",
       "    </tr>\n",
       "    <tr>\n",
       "      <th>2</th>\n",
       "      <td>15668575</td>\n",
       "      <td>Female</td>\n",
       "      <td>26</td>\n",
       "      <td>43000</td>\n",
       "      <td>0</td>\n",
       "    </tr>\n",
       "    <tr>\n",
       "      <th>3</th>\n",
       "      <td>15603246</td>\n",
       "      <td>Female</td>\n",
       "      <td>27</td>\n",
       "      <td>57000</td>\n",
       "      <td>0</td>\n",
       "    </tr>\n",
       "    <tr>\n",
       "      <th>4</th>\n",
       "      <td>15804002</td>\n",
       "      <td>Male</td>\n",
       "      <td>19</td>\n",
       "      <td>76000</td>\n",
       "      <td>0</td>\n",
       "    </tr>\n",
       "  </tbody>\n",
       "</table>\n",
       "</div>"
      ],
      "text/plain": [
       "    User ID  Gender  Age  EstimatedSalary  Purchased\n",
       "0  15624510    Male   19            19000          0\n",
       "1  15810944    Male   35            20000          0\n",
       "2  15668575  Female   26            43000          0\n",
       "3  15603246  Female   27            57000          0\n",
       "4  15804002    Male   19            76000          0"
      ]
     },
     "execution_count": 11,
     "metadata": {},
     "output_type": "execute_result"
    }
   ],
   "source": [
    "df2 = pd.read_csv('Social_Network_Ads.csv')\n",
    "X2 = df2.iloc[:, 2:4]\n",
    "y2 = df2.iloc[:, 4]\n",
    "\n",
    "df2.head()"
   ]
  },
  {
   "cell_type": "code",
   "execution_count": 12,
   "metadata": {},
   "outputs": [],
   "source": [
    "#scale it\n",
    "from sklearn.preprocessing import StandardScaler\n",
    "X2_sca = StandardScaler()\n",
    "X2 = X_sca.fit_transform(X2)"
   ]
  },
  {
   "cell_type": "code",
   "execution_count": 15,
   "metadata": {},
   "outputs": [
    {
     "name": "stdout",
     "output_type": "stream",
     "text": [
      "Train Indices: [0 1 2 3]...\n",
      "Test Indices: [22 23 60 75]...\n",
      "Training SVC model using this configuration\n",
      "Accuracy: 0.83\n",
      "Train Indices: [0 1 2 3]...\n",
      "Test Indices: [ 5  9 13 36]...\n",
      "Training SVC model using this configuration\n",
      "Accuracy: 0.85\n",
      "Train Indices: [0 1 2 3]...\n",
      "Test Indices: [ 8 17 25 28]...\n",
      "Training SVC model using this configuration\n",
      "Accuracy: 0.88\n",
      "Train Indices: [0 1 2 5]...\n",
      "Test Indices: [ 3  4 14 31]...\n",
      "Training SVC model using this configuration\n",
      "Accuracy: 0.88\n",
      "Train Indices: [0 1 3 4]...\n",
      "Test Indices: [ 2 11 15 18]...\n",
      "Training SVC model using this configuration\n",
      "Accuracy: 0.86\n",
      "Train Indices: [1 2 3 4]...\n",
      "Test Indices: [ 0 16 19 26]...\n",
      "Training SVC model using this configuration\n",
      "Accuracy: 0.84\n",
      "Train Indices: [0 1 2 3]...\n",
      "Test Indices: [ 6  7 12 20]...\n",
      "Training SVC model using this configuration\n",
      "Accuracy: 0.84\n",
      "Train Indices: [0 2 3 4]...\n",
      "Test Indices: [ 1 30 42 45]...\n",
      "Training SVC model using this configuration\n",
      "Accuracy: 0.84\n",
      "Train Indices: [0 1 2 3]...\n",
      "Test Indices: [39 43 46 90]...\n",
      "Training SVC model using this configuration\n",
      "Accuracy: 0.84\n",
      "Train Indices: [0 1 2 3]...\n",
      "Test Indices: [10 24 35 51]...\n",
      "Training SVC model using this configuration\n",
      "Accuracy: 0.84\n"
     ]
    }
   ],
   "source": [
    "from __future__ import division \n",
    "from sklearn.model_selection import StratifiedKFold \n",
    "from sklearn.metrics import accuracy_score \n",
    "from sklearn.svm import SVC \n",
    "\n",
    "strat_cv = StratifiedKFold(n_splits=10, shuffle=True, random_state=0) \n",
    "correct = 0 \n",
    "total = 0 \n",
    "\n",
    "for train_indices, test_indices in strat_cv.split(X, y): # uncomment these lines to print splits  \n",
    "    print(\"Train Indices: {}...\".format(train_indices[:4])) \n",
    "    print(\"Test Indices: {}...\".format(test_indices[:4])) \n",
    "    print(\"Training SVC model using this configuration\") \n",
    "    X_train, X_test, y_train, y_test = X[train_indices], X[test_indices], y[train_indices], y[test_indices] \n",
    "    clf = SVC(kernel='linear', random_state=0).fit(X_train, y_train) \n",
    "    correct += accuracy_score(y_test, clf.predict(X_test)) \n",
    "    total += 1 \n",
    "    print(\"Accuracy: {0:.2f}\".format(correct/total))\n",
    "\n"
   ]
  },
  {
   "cell_type": "markdown",
   "metadata": {},
   "source": [
    "### To validate Time Series data"
   ]
  },
  {
   "cell_type": "markdown",
   "metadata": {},
   "source": [
    "Time series data is data associated with a time frame, for instance stock prices. The motivation is to predict stock price for future given the data from previous data. If we were to use any splitting techniques from above we would end up predicting past from future (due to random nature from splitting) which shouldn't be permitted, we should always predict future from past. This can be achieved using <b> \"TimeSeriesSplit\" </b> function"
   ]
  },
  {
   "cell_type": "code",
   "execution_count": 16,
   "metadata": {},
   "outputs": [
    {
     "name": "stdout",
     "output_type": "stream",
     "text": [
      "[[0.26834453 0.53584406]\n",
      " [0.13858101 0.68815886]\n",
      " [0.55775302 0.39856144]\n",
      " [0.52501334 0.8958961 ]\n",
      " [0.05706948 0.59143032]\n",
      " [0.05462498 0.41478816]\n",
      " [0.07377104 0.75373714]\n",
      " [0.1303596  0.24446038]\n",
      " [0.66597346 0.25103964]\n",
      " [0.27948098 0.32449053]]\n",
      "[0.63643492 0.77520179 0.01045411 0.15540252 0.80098639 0.17076189\n",
      " 0.12586894 0.8345535  0.6752844  0.60468472]\n"
     ]
    }
   ],
   "source": [
    "from sklearn.model_selection import TimeSeriesSplit\n",
    "import numpy as np\n",
    "\n",
    "X = np.random.rand(10, 2)\n",
    "y = np.random.rand(10)\n",
    "print(X)\n",
    "print(y)"
   ]
  },
  {
   "cell_type": "code",
   "execution_count": 17,
   "metadata": {},
   "outputs": [
    {
     "name": "stdout",
     "output_type": "stream",
     "text": [
      "Train indices: [0 1 2] Test indices: [3]\n",
      "Train indices: [0 1 2 3] Test indices: [4]\n",
      "Train indices: [0 1 2 3 4] Test indices: [5]\n",
      "Train indices: [0 1 2 3 4 5] Test indices: [6]\n",
      "Train indices: [0 1 2 3 4 5 6] Test indices: [7]\n",
      "Train indices: [0 1 2 3 4 5 6 7] Test indices: [8]\n",
      "Train indices: [0 1 2 3 4 5 6 7 8] Test indices: [9]\n"
     ]
    }
   ],
   "source": [
    "tss = TimeSeriesSplit(n_splits=7)\n",
    "\n",
    "for train_indices, test_indices in tss.split(X):\n",
    "    print(\"Train indices: {0} Test indices: {1}\".format(train_indices, test_indices))"
   ]
  },
  {
   "cell_type": "code",
   "execution_count": null,
   "metadata": {},
   "outputs": [],
   "source": []
  },
  {
   "cell_type": "code",
   "execution_count": null,
   "metadata": {},
   "outputs": [],
   "source": []
  }
 ],
 "metadata": {
  "kernelspec": {
   "display_name": "Python 3",
   "language": "python",
   "name": "python3"
  },
  "language_info": {
   "codemirror_mode": {
    "name": "ipython",
    "version": 3
   },
   "file_extension": ".py",
   "mimetype": "text/x-python",
   "name": "python",
   "nbconvert_exporter": "python",
   "pygments_lexer": "ipython3",
   "version": "3.6.5"
  }
 },
 "nbformat": 4,
 "nbformat_minor": 2
}
