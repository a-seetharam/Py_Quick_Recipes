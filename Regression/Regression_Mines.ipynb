{
 "cells": [
  {
   "cell_type": "markdown",
   "metadata": {},
   "source": [
    "## Linear Regression: Dos and Don'ts  "
   ]
  },
  {
   "cell_type": "markdown",
   "metadata": {},
   "source": [
    "#### 1 Statistical aspects of the underlying data: Multicollinearity"
   ]
  },
  {
   "cell_type": "code",
   "execution_count": 34,
   "metadata": {},
   "outputs": [],
   "source": [
    "import numpy as np\n",
    "import pandas as pd\n",
    "import matplotlib.pyplot as plt\n",
    "%matplotlib inline\n",
    "\n",
    "from sklearn.datasets import make_regression\n",
    "from sklearn.linear_model import LinearRegression\n",
    "from sklearn.model_selection import cross_val_score"
   ]
  },
  {
   "cell_type": "code",
   "execution_count": 35,
   "metadata": {},
   "outputs": [
    {
     "data": {
      "text/html": [
       "<div>\n",
       "<style scoped>\n",
       "    .dataframe tbody tr th:only-of-type {\n",
       "        vertical-align: middle;\n",
       "    }\n",
       "\n",
       "    .dataframe tbody tr th {\n",
       "        vertical-align: top;\n",
       "    }\n",
       "\n",
       "    .dataframe thead th {\n",
       "        text-align: right;\n",
       "    }\n",
       "</style>\n",
       "<table border=\"1\" class=\"dataframe\">\n",
       "  <thead>\n",
       "    <tr style=\"text-align: right;\">\n",
       "      <th></th>\n",
       "      <th>0</th>\n",
       "      <th>1</th>\n",
       "      <th>2</th>\n",
       "      <th>3</th>\n",
       "      <th>4</th>\n",
       "      <th>5</th>\n",
       "      <th>6</th>\n",
       "      <th>7</th>\n",
       "      <th>8</th>\n",
       "      <th>9</th>\n",
       "      <th>10</th>\n",
       "      <th>11</th>\n",
       "      <th>12</th>\n",
       "      <th>13</th>\n",
       "      <th>14</th>\n",
       "    </tr>\n",
       "  </thead>\n",
       "  <tbody>\n",
       "    <tr>\n",
       "      <th>0</th>\n",
       "      <td>1.022041</td>\n",
       "      <td>-3.062487</td>\n",
       "      <td>-0.819441</td>\n",
       "      <td>-0.782170</td>\n",
       "      <td>1.944639</td>\n",
       "      <td>1.087005</td>\n",
       "      <td>-0.029278</td>\n",
       "      <td>-0.641349</td>\n",
       "      <td>-0.201491</td>\n",
       "      <td>-0.906762</td>\n",
       "      <td>1.050362</td>\n",
       "      <td>-1.363927</td>\n",
       "      <td>0.110860</td>\n",
       "      <td>1.314606</td>\n",
       "      <td>0.289220</td>\n",
       "    </tr>\n",
       "    <tr>\n",
       "      <th>1</th>\n",
       "      <td>-1.229528</td>\n",
       "      <td>0.750136</td>\n",
       "      <td>-0.271194</td>\n",
       "      <td>-1.711827</td>\n",
       "      <td>-0.468242</td>\n",
       "      <td>0.879198</td>\n",
       "      <td>-1.429064</td>\n",
       "      <td>0.074140</td>\n",
       "      <td>-0.014591</td>\n",
       "      <td>-1.768910</td>\n",
       "      <td>0.857951</td>\n",
       "      <td>1.458592</td>\n",
       "      <td>0.556446</td>\n",
       "      <td>0.375964</td>\n",
       "      <td>1.632807</td>\n",
       "    </tr>\n",
       "    <tr>\n",
       "      <th>2</th>\n",
       "      <td>1.139090</td>\n",
       "      <td>0.762773</td>\n",
       "      <td>1.411031</td>\n",
       "      <td>-0.077307</td>\n",
       "      <td>-1.975138</td>\n",
       "      <td>0.217048</td>\n",
       "      <td>0.734088</td>\n",
       "      <td>0.899598</td>\n",
       "      <td>-0.131072</td>\n",
       "      <td>-0.183554</td>\n",
       "      <td>-0.007248</td>\n",
       "      <td>1.274153</td>\n",
       "      <td>1.477549</td>\n",
       "      <td>0.305934</td>\n",
       "      <td>-0.228369</td>\n",
       "    </tr>\n",
       "    <tr>\n",
       "      <th>3</th>\n",
       "      <td>-0.096838</td>\n",
       "      <td>-0.941905</td>\n",
       "      <td>-0.670030</td>\n",
       "      <td>2.094335</td>\n",
       "      <td>-1.259236</td>\n",
       "      <td>-0.555375</td>\n",
       "      <td>-0.782093</td>\n",
       "      <td>-0.722720</td>\n",
       "      <td>1.955286</td>\n",
       "      <td>0.401442</td>\n",
       "      <td>-0.912247</td>\n",
       "      <td>-0.017587</td>\n",
       "      <td>-1.600245</td>\n",
       "      <td>0.164090</td>\n",
       "      <td>0.018246</td>\n",
       "    </tr>\n",
       "    <tr>\n",
       "      <th>4</th>\n",
       "      <td>1.047852</td>\n",
       "      <td>-1.684512</td>\n",
       "      <td>-0.209416</td>\n",
       "      <td>0.720223</td>\n",
       "      <td>-0.964823</td>\n",
       "      <td>0.627944</td>\n",
       "      <td>1.403980</td>\n",
       "      <td>0.873615</td>\n",
       "      <td>-0.773187</td>\n",
       "      <td>0.805618</td>\n",
       "      <td>-0.797815</td>\n",
       "      <td>2.176825</td>\n",
       "      <td>2.185041</td>\n",
       "      <td>0.255659</td>\n",
       "      <td>2.191327</td>\n",
       "    </tr>\n",
       "  </tbody>\n",
       "</table>\n",
       "</div>"
      ],
      "text/plain": [
       "         0         1         2         3         4         5         6   \\\n",
       "0  1.022041 -3.062487 -0.819441 -0.782170  1.944639  1.087005 -0.029278   \n",
       "1 -1.229528  0.750136 -0.271194 -1.711827 -0.468242  0.879198 -1.429064   \n",
       "2  1.139090  0.762773  1.411031 -0.077307 -1.975138  0.217048  0.734088   \n",
       "3 -0.096838 -0.941905 -0.670030  2.094335 -1.259236 -0.555375 -0.782093   \n",
       "4  1.047852 -1.684512 -0.209416  0.720223 -0.964823  0.627944  1.403980   \n",
       "\n",
       "         7         8         9         10        11        12        13  \\\n",
       "0 -0.641349 -0.201491 -0.906762  1.050362 -1.363927  0.110860  1.314606   \n",
       "1  0.074140 -0.014591 -1.768910  0.857951  1.458592  0.556446  0.375964   \n",
       "2  0.899598 -0.131072 -0.183554 -0.007248  1.274153  1.477549  0.305934   \n",
       "3 -0.722720  1.955286  0.401442 -0.912247 -0.017587 -1.600245  0.164090   \n",
       "4  0.873615 -0.773187  0.805618 -0.797815  2.176825  2.185041  0.255659   \n",
       "\n",
       "         14  \n",
       "0  0.289220  \n",
       "1  1.632807  \n",
       "2 -0.228369  \n",
       "3  0.018246  \n",
       "4  2.191327  "
      ]
     },
     "execution_count": 35,
     "metadata": {},
     "output_type": "execute_result"
    }
   ],
   "source": [
    "# Create a fake regression dataset using scikit's built-in functions\n",
    "\n",
    "X1, y1 = make_regression(n_samples=1000, n_features=15, noise=0.9)\n",
    "# convert to a dataframe\n",
    "df1 = pd.DataFrame(X1)\n",
    "df1.head()"
   ]
  },
  {
   "cell_type": "markdown",
   "metadata": {},
   "source": [
    "#### How regression impacts a dataset with no multicollinearity"
   ]
  },
  {
   "cell_type": "code",
   "execution_count": 36,
   "metadata": {},
   "outputs": [
    {
     "name": "stdout",
     "output_type": "stream",
     "text": [
      "Mean: 0.9999742713425486\n",
      "Values: [0.99997368 0.99996988 0.99997594 0.99997999 0.99996145 0.99997977\n",
      " 0.99996882 0.99998026 0.99997748 0.99997545]\n"
     ]
    }
   ],
   "source": [
    "# Cross Validation will fit the classifier N number of times\n",
    "# and display the accuracies\n",
    "cv1 = cross_val_score(LinearRegression(), X1, y1, cv=10)\n",
    "print(\"Mean: {}\".format(cv1.mean()))\n",
    "print(\"Values: {}\".format(cv1))"
   ]
  },
  {
   "cell_type": "markdown",
   "metadata": {},
   "source": [
    "#### Create a new dataset with high multicollinearity"
   ]
  },
  {
   "cell_type": "code",
   "execution_count": 37,
   "metadata": {},
   "outputs": [
    {
     "data": {
      "text/html": [
       "<div>\n",
       "<style scoped>\n",
       "    .dataframe tbody tr th:only-of-type {\n",
       "        vertical-align: middle;\n",
       "    }\n",
       "\n",
       "    .dataframe tbody tr th {\n",
       "        vertical-align: top;\n",
       "    }\n",
       "\n",
       "    .dataframe thead th {\n",
       "        text-align: right;\n",
       "    }\n",
       "</style>\n",
       "<table border=\"1\" class=\"dataframe\">\n",
       "  <thead>\n",
       "    <tr style=\"text-align: right;\">\n",
       "      <th></th>\n",
       "      <th>0</th>\n",
       "      <th>1</th>\n",
       "      <th>2</th>\n",
       "      <th>3</th>\n",
       "      <th>4</th>\n",
       "      <th>5</th>\n",
       "      <th>6</th>\n",
       "      <th>7</th>\n",
       "      <th>8</th>\n",
       "      <th>9</th>\n",
       "      <th>10</th>\n",
       "      <th>11</th>\n",
       "      <th>12</th>\n",
       "      <th>13</th>\n",
       "      <th>14</th>\n",
       "    </tr>\n",
       "  </thead>\n",
       "  <tbody>\n",
       "    <tr>\n",
       "      <th>0</th>\n",
       "      <td>-0.024169</td>\n",
       "      <td>-0.004514</td>\n",
       "      <td>0.032384</td>\n",
       "      <td>-0.027197</td>\n",
       "      <td>-0.014573</td>\n",
       "      <td>0.007586</td>\n",
       "      <td>-0.000043</td>\n",
       "      <td>-0.005436</td>\n",
       "      <td>-0.000608</td>\n",
       "      <td>-0.002117</td>\n",
       "      <td>0.023125</td>\n",
       "      <td>0.000480</td>\n",
       "      <td>0.006123</td>\n",
       "      <td>-0.009695</td>\n",
       "      <td>0.000013</td>\n",
       "    </tr>\n",
       "    <tr>\n",
       "      <th>1</th>\n",
       "      <td>0.024809</td>\n",
       "      <td>0.004545</td>\n",
       "      <td>-0.024196</td>\n",
       "      <td>0.034838</td>\n",
       "      <td>0.004215</td>\n",
       "      <td>-0.023911</td>\n",
       "      <td>-0.001687</td>\n",
       "      <td>-0.014644</td>\n",
       "      <td>0.009048</td>\n",
       "      <td>0.001535</td>\n",
       "      <td>-0.023104</td>\n",
       "      <td>0.016262</td>\n",
       "      <td>0.002205</td>\n",
       "      <td>0.001369</td>\n",
       "      <td>0.013487</td>\n",
       "    </tr>\n",
       "    <tr>\n",
       "      <th>2</th>\n",
       "      <td>0.002169</td>\n",
       "      <td>-0.007483</td>\n",
       "      <td>0.005596</td>\n",
       "      <td>0.013351</td>\n",
       "      <td>0.008596</td>\n",
       "      <td>0.000166</td>\n",
       "      <td>0.009387</td>\n",
       "      <td>-0.014615</td>\n",
       "      <td>-0.000182</td>\n",
       "      <td>-0.000353</td>\n",
       "      <td>-0.006845</td>\n",
       "      <td>0.000684</td>\n",
       "      <td>-0.001145</td>\n",
       "      <td>-0.000637</td>\n",
       "      <td>-0.003595</td>\n",
       "    </tr>\n",
       "    <tr>\n",
       "      <th>3</th>\n",
       "      <td>0.043403</td>\n",
       "      <td>0.008764</td>\n",
       "      <td>-0.027943</td>\n",
       "      <td>0.029197</td>\n",
       "      <td>0.025055</td>\n",
       "      <td>0.002451</td>\n",
       "      <td>-0.001024</td>\n",
       "      <td>-0.003691</td>\n",
       "      <td>0.023601</td>\n",
       "      <td>0.011138</td>\n",
       "      <td>-0.041156</td>\n",
       "      <td>-0.006007</td>\n",
       "      <td>0.004729</td>\n",
       "      <td>0.006564</td>\n",
       "      <td>-0.000116</td>\n",
       "    </tr>\n",
       "    <tr>\n",
       "      <th>4</th>\n",
       "      <td>0.004540</td>\n",
       "      <td>-0.020302</td>\n",
       "      <td>-0.004873</td>\n",
       "      <td>0.010052</td>\n",
       "      <td>0.003322</td>\n",
       "      <td>0.009186</td>\n",
       "      <td>0.011873</td>\n",
       "      <td>-0.011884</td>\n",
       "      <td>0.011710</td>\n",
       "      <td>0.010791</td>\n",
       "      <td>-0.010389</td>\n",
       "      <td>0.013046</td>\n",
       "      <td>0.004238</td>\n",
       "      <td>0.004837</td>\n",
       "      <td>-0.008838</td>\n",
       "    </tr>\n",
       "  </tbody>\n",
       "</table>\n",
       "</div>"
      ],
      "text/plain": [
       "         0         1         2         3         4         5         6   \\\n",
       "0 -0.024169 -0.004514  0.032384 -0.027197 -0.014573  0.007586 -0.000043   \n",
       "1  0.024809  0.004545 -0.024196  0.034838  0.004215 -0.023911 -0.001687   \n",
       "2  0.002169 -0.007483  0.005596  0.013351  0.008596  0.000166  0.009387   \n",
       "3  0.043403  0.008764 -0.027943  0.029197  0.025055  0.002451 -0.001024   \n",
       "4  0.004540 -0.020302 -0.004873  0.010052  0.003322  0.009186  0.011873   \n",
       "\n",
       "         7         8         9         10        11        12        13  \\\n",
       "0 -0.005436 -0.000608 -0.002117  0.023125  0.000480  0.006123 -0.009695   \n",
       "1 -0.014644  0.009048  0.001535 -0.023104  0.016262  0.002205  0.001369   \n",
       "2 -0.014615 -0.000182 -0.000353 -0.006845  0.000684 -0.001145 -0.000637   \n",
       "3 -0.003691  0.023601  0.011138 -0.041156 -0.006007  0.004729  0.006564   \n",
       "4 -0.011884  0.011710  0.010791 -0.010389  0.013046  0.004238  0.004837   \n",
       "\n",
       "         14  \n",
       "0  0.000013  \n",
       "1  0.013487  \n",
       "2 -0.003595  \n",
       "3 -0.000116  \n",
       "4 -0.008838  "
      ]
     },
     "execution_count": 37,
     "metadata": {},
     "output_type": "execute_result"
    }
   ],
   "source": [
    "# let's create the dataset again, but this time, introduce high multicollinearity by setting low rank to the input matrix\n",
    "X2, y2 = make_regression(n_samples=1000, n_features=15, noise=0.95, effective_rank=1)\n",
    "df2 = pd.DataFrame(X2)\n",
    "df2.head()"
   ]
  },
  {
   "cell_type": "markdown",
   "metadata": {},
   "source": [
    "#### How regression impacts a dataset with high multicollinearity"
   ]
  },
  {
   "cell_type": "code",
   "execution_count": 38,
   "metadata": {},
   "outputs": [
    {
     "name": "stdout",
     "output_type": "stream",
     "text": [
      "Mean: 0.8600559910855526\n",
      "Values: [0.91007061 0.89146499 0.84007759 0.88570249 0.87333759 0.83428157\n",
      " 0.817257   0.83437045 0.88349441 0.83050321]\n"
     ]
    }
   ],
   "source": [
    "# Cross Validation will fit the classifier N number of times\n",
    "# and display the accuracies\n",
    "cv2 = cross_val_score(LinearRegression(), X2, y2, cv=10)\n",
    "print(\"Mean: {}\".format(cv2.mean()))\n",
    "print(\"Values: {}\".format(cv2))"
   ]
  },
  {
   "cell_type": "code",
   "execution_count": 48,
   "metadata": {},
   "outputs": [
    {
     "data": {
      "text/plain": [
       "[<matplotlib.lines.Line2D at 0x24cf06d6518>]"
      ]
     },
     "execution_count": 48,
     "metadata": {},
     "output_type": "execute_result"
    },
    {
     "data": {
      "image/png": "[encoded data removed]",
      "text/plain": [
       "<Figure size 432x288 with 1 Axes>"
      ]
     },
     "metadata": {},
     "output_type": "display_data"
    }
   ],
   "source": [
    "plt.plot(cv1, color='g', label='Low MC')\n",
    "plt.plot(cv2, color='brown',label='High MC')"
   ]
  },
  {
   "cell_type": "markdown",
   "metadata": {},
   "source": [
    "#### 2 Presence of outliers and the problem with ordinary least squares regression"
   ]
  },
  {
   "cell_type": "code",
   "execution_count": 118,
   "metadata": {},
   "outputs": [],
   "source": [
    "import numpy as np\n",
    "import matplotlib.pyplot as plt\n",
    "\n",
    "X3 = np.linspace(1, 100, 150)\n",
    "y3 = X3 * 3 + 10\n",
    "\n",
    "y3[120:140] = np.random.rand(20) * 80 - 100\n",
    "y3[40:60] = np.random.rand(20) * 220 + 100\n",
    "\n",
    "# Needed since X, and y has only 1 feature\n",
    "X3 = X3.reshape(-1, 1)\n",
    "y3 = y3.reshape(-1, 1)"
   ]
  },
  {
   "cell_type": "code",
   "execution_count": 119,
   "metadata": {},
   "outputs": [
    {
     "data": {
      "image/png": "[encoded data removed]",
      "text/plain": [
       "<Figure size 1080x576 with 1 Axes>"
      ]
     },
     "metadata": {},
     "output_type": "display_data"
    }
   ],
   "source": [
    "# visualizing data\n",
    "def plot(clf=None, clf_name=\"\", color=None):\n",
    "    fig = plt.figure(figsize=(15, 8))\n",
    "    plt.scatter(X3, y3, label=\"Data samples\")\n",
    "    plt.title(\"Fake data with a few outliers\")\n",
    "    if clf is not None:\n",
    "        y_pred3 = clf.predict(X3)\n",
    "        plt.plot(X3, y_pred3, label=clf_name, color=color)\n",
    "    plt.xlabel(\"X\")\n",
    "    plt.ylabel(\"y\")\n",
    "    plt.legend()\n",
    "    plt.show()\n",
    "plot()"
   ]
  },
  {
   "cell_type": "code",
   "execution_count": 121,
   "metadata": {},
   "outputs": [
    {
     "data": {
      "image/png": "[encoded data removed]",
      "text/plain": [
       "<Figure size 1080x576 with 1 Axes>"
      ]
     },
     "metadata": {},
     "output_type": "display_data"
    }
   ],
   "source": [
    "from sklearn.linear_model import LinearRegression\n",
    "\n",
    "lr = LinearRegression().fit(X3, y3)\n",
    "plot(lr, \"OLS\", 'green')"
   ]
  },
  {
   "cell_type": "code",
   "execution_count": 124,
   "metadata": {},
   "outputs": [
    {
     "name": "stderr",
     "output_type": "stream",
     "text": [
      "D:\\Anaconda3\\lib\\site-packages\\sklearn\\utils\\validation.py:578: DataConversionWarning: A column-vector y was passed when a 1d array was expected. Please change the shape of y to (n_samples, ), for example using ravel().\n",
      "  y = column_or_1d(y, warn=True)\n"
     ]
    },
    {
     "data": {
      "image/png": "[encoded data removed]",
      "text/plain": [
       "<Figure size 1080x576 with 1 Axes>"
      ]
     },
     "metadata": {},
     "output_type": "display_data"
    }
   ],
   "source": [
    "from sklearn.linear_model import TheilSenRegressor\n",
    "\n",
    "tr = TheilSenRegressor().fit(X3, y3)\n",
    "plot(tr, \"TheilSenRegressor\", \"magenta\")"
   ]
  },
  {
   "cell_type": "markdown",
   "metadata": {},
   "source": [
    "As we can see TheilSen Regressor has done a better job than the OLS Regression when data has many perturbations.\n",
    "\n",
    "For more information, refer: http://scikit-learn.org/stable/auto_examples/linear_model/plot_theilsen.html"
   ]
  },
  {
   "cell_type": "markdown",
   "metadata": {},
   "source": []
  }
 ],
 "metadata": {
  "kernelspec": {
   "display_name": "Python 3",
   "language": "python",
   "name": "python3"
  },
  "language_info": {
   "codemirror_mode": {
    "name": "ipython",
    "version": 3
   },
   "file_extension": ".py",
   "mimetype": "text/x-python",
   "name": "python",
   "nbconvert_exporter": "python",
   "pygments_lexer": "ipython3",
   "version": "3.5.5"
  }
 },
 "nbformat": 4,
 "nbformat_minor": 2
}
